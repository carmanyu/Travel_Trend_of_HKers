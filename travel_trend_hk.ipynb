{
 "cells": [
  {
   "cell_type": "markdown",
   "id": "c52542d3-85d2-42bf-9873-ba7913d5cf85",
   "metadata": {},
   "source": [
    "# Travel Trend (Intention to travel) of HKers between 2020 and 2022"
   ]
  },
  {
   "cell_type": "markdown",
   "id": "39e52d03-3006-4a3f-94a9-90e96baeab08",
   "metadata": {},
   "source": [
    "## Step 1: Data Processing"
   ]
  },
  {
   "cell_type": "markdown",
   "id": "6df2f1eb-0c8e-4fb4-af74-e9d207c08a3f",
   "metadata": {},
   "source": [
    "#### Load all raw data"
   ]
  },
  {
   "cell_type": "code",
   "execution_count": null,
   "id": "415f622b-d19c-4b8c-bed4-39c0e8e24ada",
   "metadata": {},
   "outputs": [],
   "source": [
    "import pandas as pd\n",
    "import json\n",
    "import ijson\n",
    "\n",
    "f = open(\"posts_travel.json\", \"r\", encoding=\"utf-8\")\n",
    "data = f.readlines()\n",
    "data = list(map(json.loads, data)) "
   ]
  },
  {
   "cell_type": "markdown",
   "id": "216560f6-f0c3-4723-a8fd-5518e96fb434",
   "metadata": {},
   "source": [
    "#### Stanza by Stanford NLP group as NLP backbone. Since data source is in Traditional Chinese and stanza has better performance with Simplified Chinese, data source is translated to Simplified Chinese using OpenCC"
   ]
  },
  {
   "cell_type": "code",
   "execution_count": null,
   "id": "c0c79e60-52c0-4adb-a481-ee398d4ac1e8",
   "metadata": {},
   "outputs": [],
   "source": [
    "import stanza\n",
    "import opencc\n",
    "\n",
    "## Download NLP model (zh)\n",
    "stanza.download('zh')"
   ]
  },
  {
   "cell_type": "markdown",
   "id": "3d48c5cd-eaa8-45db-bdc0-12c29db7462b",
   "metadata": {},
   "source": [
    "Initiate NLP pipeline"
   ]
  },
  {
   "cell_type": "code",
   "execution_count": null,
   "id": "d4c1e773-2833-479f-a47d-af9735072ef7",
   "metadata": {},
   "outputs": [],
   "source": [
    "nlp = stanza.Pipeline('zh', processors='tokenize,ner')"
   ]
  },
  {
   "cell_type": "markdown",
   "id": "2980b23c-6d5b-4e3b-a2ce-93d3b6179c9c",
   "metadata": {},
   "source": [
    "Initiate OpenCC converter"
   ]
  },
  {
   "cell_type": "code",
   "execution_count": null,
   "id": "07ed3cbb-d034-402d-91f2-1e94c915421f",
   "metadata": {},
   "outputs": [],
   "source": [
    "converter = opencc.OpenCC('hk2s.json')"
   ]
  },
  {
   "cell_type": "markdown",
   "id": "885c2fe2-1950-4b75-aa2b-e52658ec45f9",
   "metadata": {},
   "source": [
    "#### Translate data into Simplified Chinese using OpenCC, then apply stanza to extract NER associated with each sentence"
   ]
  },
  {
   "cell_type": "code",
   "execution_count": null,
   "id": "7c7c3bdd-37e5-4b0c-917a-31bb14a71516",
   "metadata": {},
   "outputs": [],
   "source": [
    "# To save processed result into result\n",
    "result = []\n",
    "\n",
    "def extract_country(nlp_result):\n",
    "    ner = []\n",
    "    try:\n",
    "        for sent in nlp_result.sentences: \n",
    "            for token in sent.tokens:\n",
    "                \n",
    "                # Save only data rows having location NER \n",
    "                if \"GPE\" in token.ner:\n",
    "                    ner.append((token.text, token.ner))\n",
    "    except:\n",
    "        pass\n",
    "    \n",
    "    return ner\n",
    "\n",
    "for d in data:\n",
    "    for m in d['msg']:\n",
    "        try:\n",
    "            msg_cleaned = \"，\".join(m['msg_cleaned'])\n",
    "            \n",
    "            # Translation with OpenCC\n",
    "            msg_translated = converter.convert(msg_cleaned)\n",
    "            \n",
    "            # Apply stanza to tokenize each sentences\n",
    "            nlp_result = nlp(msg_translated)\n",
    "            \n",
    "            # Extract result associated with location ner only\n",
    "            ner = extract_country(nlp_result)\n",
    "            \n",
    "            # Check if there is any loaction ner in each row. If yes, save it to the result list\n",
    "            if len(ner) > 0:\n",
    "                post = dict(\n",
    "                            post_id=d['post_id'],\n",
    "                            resource=d['resource'],\n",
    "                            title=d['title'],\n",
    "                            msg=msg_cleaned,\n",
    "                            author=m['author'],\n",
    "                            date=m['pub_date']['$date'],\n",
    "                            ner=ner\n",
    "                        )\n",
    "                result.append(post)\n",
    "        except Exception as ex:\n",
    "            # Prevent programme from stopping due to unforeseen error\n",
    "            pass"
   ]
  },
  {
   "cell_type": "markdown",
   "id": "2a3e37f5-bacc-4168-89c5-949a7ba102d5",
   "metadata": {},
   "source": [
    "Check how many results obtained in total"
   ]
  },
  {
   "cell_type": "code",
   "execution_count": 41,
   "id": "f9361566-d59e-460c-9dfc-e33e1a618483",
   "metadata": {},
   "outputs": [
    {
     "data": {
      "text/plain": [
       "257581"
      ]
     },
     "execution_count": 41,
     "metadata": {},
     "output_type": "execute_result"
    }
   ],
   "source": [
    "len(result)"
   ]
  },
  {
   "cell_type": "markdown",
   "id": "387e9bbc-dc60-4460-814a-3a39658987d6",
   "metadata": {},
   "source": [
    "Print the first result to look at data structure and format"
   ]
  },
  {
   "cell_type": "code",
   "execution_count": 43,
   "id": "b02c6e9a-0986-4fc1-b0dc-dfe3722b3add",
   "metadata": {},
   "outputs": [
    {
     "data": {
      "text/plain": [
       "{'post_id': 'lihkg_1114972',\n",
       " 'resource': 'lihkg',\n",
       " 'title': '有冇人暑假會喺中亞?',\n",
       " 'msg': '哈薩克睇山水風景 一個禮拜包車係勉強夠嘅 但只可以去到喺almaty附近嘅景點',\n",
       " 'author': '你老闆再慢啲?',\n",
       " 'date': '2019-05-06T10:13:24Z',\n",
       " 'ner': [['哈萨克', 'S-GPE'], ['喺almaty', 'S-GPE']]}"
      ]
     },
     "execution_count": 43,
     "metadata": {},
     "output_type": "execute_result"
    }
   ],
   "source": [
    "result[0]"
   ]
  },
  {
   "cell_type": "markdown",
   "id": "54fb7904-5e3c-4379-ba68-a4c2886bf1ca",
   "metadata": {},
   "source": [
    "## Step 2: Upload to Google Cloud Storage for Vertex AI batch text prediction"
   ]
  },
  {
   "cell_type": "code",
   "execution_count": null,
   "id": "1e4b4fcb-53a4-46dd-9337-212344643991",
   "metadata": {},
   "outputs": [],
   "source": [
    "import jsonlines\n",
    "from google.cloud import aiplatform, storage\n",
    "from google.protobuf import json_format\n",
    "import uuid"
   ]
  },
  {
   "cell_type": "markdown",
   "id": "a3926095-cca4-4dfe-9b53-b37120cda279",
   "metadata": {},
   "source": [
    "Create a bucket called travel_input_output to store all processed data and predicted data"
   ]
  },
  {
   "cell_type": "code",
   "execution_count": null,
   "id": "240154c2-1a9b-406f-9ca0-f316d1d80a07",
   "metadata": {},
   "outputs": [],
   "source": [
    "storage = storage.Client()\n",
    "bucket = storage.bucket(\"travel_input_output\")"
   ]
  },
  {
   "cell_type": "markdown",
   "id": "37b4be96-a00d-49f4-890d-9ef6c064fc65",
   "metadata": {},
   "source": [
    "#### Upload data in the right format for Vertex AI batch text prediction"
   ]
  },
  {
   "cell_type": "code",
   "execution_count": null,
   "id": "baa9cab4-e8b4-4aa4-a090-a67ca0b95273",
   "metadata": {},
   "outputs": [],
   "source": [
    "input_file_name = \"total-prediction-input.jsonl\"\n",
    "BUCKET_URI = f\"gs://travel_input_output\"\n",
    "input_file_data = []\n",
    "\n",
    "\n",
    "for i, msg in enumerate(result):\n",
    "    \n",
    "    # Assign an uuid to map source data with predicted results\n",
    "    msg['uuid'] = str(uuid.uuid1())\n",
    "    instance_name = f\"{msg['uuid']}.txt\"\n",
    "    instance_file_uri = f\"{BUCKET_URI}/{instance_name}\"\n",
    "\n",
    "    # Store data in JSONL input file\n",
    "    tmp_data = {\"content\": instance_file_uri, \"mimeType\": \"text/plain\"}\n",
    "    input_file_data.append(tmp_data)\n",
    "\n",
    "    # Create new instance file\n",
    "    blob = bucket.blob(instance_name)\n",
    "    blob.upload_from_string(msg['msg'])\n",
    "\n",
    "input_str = \"\\n\".join([str(d) for d in input_file_data])\n",
    "file_blob = bucket.blob(f\"{input_file_name}\")\n",
    "file_blob.upload_from_string(input_str)"
   ]
  },
  {
   "cell_type": "markdown",
   "id": "229efeb2-b7f3-4271-b8e6-6a7fcfd72487",
   "metadata": {},
   "source": [
    "#### Store all processed data"
   ]
  },
  {
   "cell_type": "code",
   "execution_count": null,
   "id": "3be41450-652d-47e0-8464-f90ff18fbc2b",
   "metadata": {},
   "outputs": [],
   "source": [
    "with open('./posts_travel_processed.json' , 'w', encoding=\"utf8\") as outfile:\n",
    "        json.dump(result, outfile, ensure_ascii=False)"
   ]
  },
  {
   "cell_type": "markdown",
   "id": "9a5aa6ee-7bc1-4762-ac42-99be718bb194",
   "metadata": {},
   "source": [
    "#### Run batch prediction in GCP web UI and wait for the results"
   ]
  },
  {
   "cell_type": "markdown",
   "id": "b9b07c99-4e6f-4cb4-9cc6-29b490ed59e5",
   "metadata": {},
   "source": [
    "## Step 3: Getting result"
   ]
  },
  {
   "cell_type": "markdown",
   "id": "ab8a3bb4-2ce4-432c-9100-ea4d8c1efd45",
   "metadata": {},
   "source": [
    "#### Use gsuil command to download all predidction data to prediction_results folder"
   ]
  },
  {
   "cell_type": "code",
   "execution_count": 4,
   "id": "10b479b6-4462-49a9-9523-1e820cecc3c7",
   "metadata": {},
   "outputs": [
    {
     "name": "stdout",
     "output_type": "stream",
     "text": [
      "Copying gs://travel_input_output/total/prediction-travel_0123_01-2022-05-11T13:20:17.581581Z/predictions_00001.jsonl...\n",
      "Copying gs://travel_input_output/total/prediction-travel_0123_01-2022-05-11T13:20:17.581581Z/predictions_00002.jsonl...\n",
      "Copying gs://travel_input_output/total/prediction-travel_0123_01-2022-05-11T13:20:17.581581Z/predictions_00003.jsonl...\n",
      "Copying gs://travel_input_output/total/prediction-travel_0123_01-2022-05-11T13:20:17.581581Z/predictions_00006.jsonl...\n",
      "Copying gs://travel_input_output/total/prediction-travel_0123_01-2022-05-11T13:20:17.581581Z/predictions_00010.jsonl...\n",
      "Copying gs://travel_input_output/total/prediction-travel_0123_01-2022-05-11T13:20:17.581581Z/predictions_00005.jsonl...\n",
      "Copying gs://travel_input_output/total/prediction-travel_0123_01-2022-05-11T13:20:17.581581Z/predictions_00007.jsonl...\n",
      "Copying gs://travel_input_output/total/prediction-travel_0123_01-2022-05-11T13:20:17.581581Z/predictions_00008.jsonl...\n",
      "Copying gs://travel_input_output/total/prediction-travel_0123_01-2022-05-11T13:20:51.095467Z/predictions_00010.jsonl...\n",
      "Copying gs://travel_input_output/total/prediction-travel_0123_01-2022-05-11T13:20:51.095467Z/predictions_00001.jsonl...\n",
      "Copying gs://travel_input_output/total/prediction-travel_0123_01-2022-05-11T13:20:17.581581Z/predictions_00009.jsonl...\n",
      "Copying gs://travel_input_output/total/prediction-travel_0123_01-2022-05-11T13:20:51.095467Z/predictions_00006.jsonl...\n",
      "Copying gs://travel_input_output/total/prediction-travel_0123_01-2022-05-11T13:20:51.095467Z/predictions_00005.jsonl...\n",
      "Copying gs://travel_input_output/total/prediction-travel_0123_01-2022-05-11T13:20:17.581581Z/predictions_00004.jsonl...\n",
      "Copying gs://travel_input_output/total/prediction-travel_0123_01-2022-05-11T13:20:51.095467Z/predictions_00002.jsonl...\n",
      "Copying gs://travel_input_output/total/prediction-travel_0123_01-2022-05-11T13:20:51.095467Z/predictions_00004.jsonl...\n",
      "Copying gs://travel_input_output/total/prediction-travel_0123_01-2022-05-11T13:20:51.095467Z/predictions_00003.jsonl...\n",
      "Copying gs://travel_input_output/total/prediction-travel_0123_01-2022-05-11T13:20:51.095467Z/predictions_00008.jsonl...\n",
      "Copying gs://travel_input_output/total/prediction-travel_0123_01-2022-05-11T13:20:51.095467Z/predictions_00007.jsonl...\n",
      "Copying gs://travel_input_output/total/prediction-travel_0123_01-2022-05-11T13:20:51.095467Z/predictions_00009.jsonl...\n",
      "Copying gs://travel_input_output/total/prediction-travel_0123_01-2022-05-11T13:21:23.329643Z/predictions_00001.jsonl...\n",
      "Copying gs://travel_input_output/total/prediction-travel_0123_01-2022-05-11T13:21:23.329643Z/predictions_00002.jsonl...\n",
      "Copying gs://travel_input_output/total/prediction-travel_0123_01-2022-05-11T13:21:23.329643Z/predictions_00004.jsonl...\n",
      "Copying gs://travel_input_output/total/prediction-travel_0123_01-2022-05-11T13:21:23.329643Z/predictions_00003.jsonl...\n",
      "Copying gs://travel_input_output/total/prediction-travel_0123_01-2022-05-11T13:21:23.329643Z/predictions_00005.jsonl...\n",
      "Copying gs://travel_input_output/total/prediction-travel_0123_01-2022-05-11T13:21:23.329643Z/predictions_00006.jsonl...\n",
      "Copying gs://travel_input_output/total/prediction-travel_0123_01-2022-05-11T13:21:23.329643Z/predictions_00008.jsonl...\n",
      "Copying gs://travel_input_output/total/prediction-travel_0123_01-2022-05-11T13:21:23.329643Z/predictions_00007.jsonl...\n",
      "Copying gs://travel_input_output/total/prediction-travel_0123_01-2022-05-11T13:21:23.329643Z/predictions_00009.jsonl...\n",
      "Copying gs://travel_input_output/total/prediction-travel_0123_01-2022-05-11T13:21:23.329643Z/predictions_00010.jsonl...\n",
      "- [30/31 files][ 79.0 MiB/ 79.0 MiB]  99% Done                                  \r"
     ]
    }
   ],
   "source": [
    "import os \n",
    "\n",
    "BUCKET_OUTPUT = \"gs://travel_input_output/total\"\n",
    "RESULTS_DIRECTORY = \"prediction_results\"\n",
    "RESULTS_DIRECTORY_FULL = f\"{RESULTS_DIRECTORY}/output\"\n",
    "\n",
    "# Create missing directories\n",
    "os.makedirs(RESULTS_DIRECTORY, exist_ok=True)\n",
    "\n",
    "# Get the Cloud Storage paths for each result\n",
    "! gsutil -m cp -r $BUCKET_OUTPUT $RESULTS_DIRECTORY\n"
   ]
  },
  {
   "cell_type": "markdown",
   "id": "e3302a12-680b-472a-89e4-64a03e583ba3",
   "metadata": {},
   "source": [
    "#### Find out all the file paths"
   ]
  },
  {
   "cell_type": "code",
   "execution_count": null,
   "id": "6f37e99b-1d8d-4a78-8d66-47c42864ad10",
   "metadata": {},
   "outputs": [],
   "source": [
    "import glob\n",
    "\n",
    "files_path = []\n",
    "for dir in glob.glob(\"prediction_results/total/*\"):\n",
    "    files_path.extend(glob.glob(\"%s/*\" % dir))\n"
   ]
  },
  {
   "cell_type": "markdown",
   "id": "316d0000-1bf8-4f5f-b1cd-94a167af4070",
   "metadata": {},
   "source": [
    "#### Consolide all data into one single array"
   ]
  },
  {
   "cell_type": "code",
   "execution_count": null,
   "id": "83b8ef64-d392-4eae-a347-e40d5ace1f67",
   "metadata": {},
   "outputs": [],
   "source": [
    "import json\n",
    "\n",
    "prediction_data = []\n",
    "\n",
    "for file in files_path:\n",
    "    with open(file, \"r\") as f:\n",
    "        for line in f:\n",
    "            data.append(json.loads(line))"
   ]
  },
  {
   "cell_type": "markdown",
   "id": "a561069c-a55d-4f93-9663-5882cede7300",
   "metadata": {},
   "source": [
    "Check total number of prediction_data"
   ]
  },
  {
   "cell_type": "code",
   "execution_count": 41,
   "id": "63978e8e-554c-490a-8a7b-00149a1cafe9",
   "metadata": {},
   "outputs": [
    {
     "data": {
      "text/plain": [
       "257581"
      ]
     },
     "execution_count": 41,
     "metadata": {},
     "output_type": "execute_result"
    }
   ],
   "source": [
    "len(prediction_data)"
   ]
  },
  {
   "cell_type": "markdown",
   "id": "0f6221b4-1a6d-4062-ba44-bb68f90191a8",
   "metadata": {},
   "source": [
    "Print the first 5 rows to look at data structure and format"
   ]
  },
  {
   "cell_type": "code",
   "execution_count": 15,
   "id": "14a4fc47-cb5b-4b81-9dfd-54e623d6371f",
   "metadata": {},
   "outputs": [
    {
     "data": {
      "text/plain": [
       "[{'instance': {'content': 'gs://travel_input_output/e4b1f932-cef3-11ec-a6e0-42010a8a000b.txt',\n",
       "   'mimeType': 'text/plain'},\n",
       "  'prediction': {'ids': ['5092714109242179584',\n",
       "    '7398557118455873536',\n",
       "    '481028090814791680',\n",
       "    '2786871100028485632'],\n",
       "   'displayNames': ['1', '3', '0', '2'],\n",
       "   'confidences': [0.8481917, 0.1133489, 0.028068874, 0.010390556]}},\n",
       " {'instance': {'content': 'gs://travel_input_output/2fada042-cefb-11ec-a6e0-42010a8a000b.txt',\n",
       "   'mimeType': 'text/plain'},\n",
       "  'prediction': {'ids': ['5092714109242179584',\n",
       "    '7398557118455873536',\n",
       "    '2786871100028485632',\n",
       "    '481028090814791680'],\n",
       "   'displayNames': ['1', '3', '2', '0'],\n",
       "   'confidences': [0.9987587, 0.0010578779, 0.00010020654, 8.318211e-05]}},\n",
       " {'instance': {'content': 'gs://travel_input_output/577d837c-cef5-11ec-a6e0-42010a8a000b.txt',\n",
       "   'mimeType': 'text/plain'},\n",
       "  'prediction': {'ids': ['481028090814791680',\n",
       "    '2786871100028485632',\n",
       "    '7398557118455873536',\n",
       "    '5092714109242179584'],\n",
       "   'displayNames': ['0', '2', '3', '1'],\n",
       "   'confidences': [0.9332582, 0.063209705, 0.0020322981, 0.0014998037]}},\n",
       " {'instance': {'content': 'gs://travel_input_output/e0ff510a-cefc-11ec-a6e0-42010a8a000b.txt',\n",
       "   'mimeType': 'text/plain'},\n",
       "  'prediction': {'ids': ['5092714109242179584',\n",
       "    '2786871100028485632',\n",
       "    '7398557118455873536',\n",
       "    '481028090814791680'],\n",
       "   'displayNames': ['1', '2', '3', '0'],\n",
       "   'confidences': [0.9944382, 0.0029513275, 0.0015140113, 0.0010965108]}},\n",
       " {'instance': {'content': 'gs://travel_input_output/f490f470-cef8-11ec-a6e0-42010a8a000b.txt',\n",
       "   'mimeType': 'text/plain'},\n",
       "  'prediction': {'ids': ['481028090814791680',\n",
       "    '5092714109242179584',\n",
       "    '2786871100028485632',\n",
       "    '7398557118455873536'],\n",
       "   'displayNames': ['0', '1', '2', '3'],\n",
       "   'confidences': [0.58264315, 0.29871345, 0.06676188, 0.051881623]}}]"
      ]
     },
     "execution_count": 15,
     "metadata": {},
     "output_type": "execute_result"
    }
   ],
   "source": [
    "prediction_data[:5]"
   ]
  },
  {
   "cell_type": "markdown",
   "id": "de8840af-42ad-4d7f-a267-bacea7e701b8",
   "metadata": {},
   "source": [
    "#### Extract useful information from prediction_data"
   ]
  },
  {
   "cell_type": "code",
   "execution_count": null,
   "id": "4008794e-1f8b-40ba-b23c-751a472aa1db",
   "metadata": {},
   "outputs": [],
   "source": [
    "prediction_processed = []\n",
    "\n",
    "for d in prediction_data:\n",
    "    # Extract the uuid in order to map processed data and predicted data\n",
    "    filename = os.path.basename(d['instance']['content']).split(\".\")[0]\n",
    "    \n",
    "    obj = dict(\n",
    "        uuid=filename,\n",
    "        pred=d['prediction']['displayNames'][0], # Obtain the prediction result with highest condifence level\n",
    "        confidence=d['prediction']['confidences'][0]\n",
    "    )\n",
    "    prediction_processed.append(obj)\n",
    "    \n",
    "    "
   ]
  },
  {
   "cell_type": "markdown",
   "id": "86580fb1-9003-4faf-8a4f-e08f04495c6a",
   "metadata": {},
   "source": [
    "Print the first 5 rows to look at data structure and format"
   ]
  },
  {
   "cell_type": "code",
   "execution_count": 23,
   "id": "044bb49a-bb09-430a-a262-cba2ffbd7876",
   "metadata": {},
   "outputs": [
    {
     "data": {
      "text/plain": [
       "[{'uuid': 'e4b1f932-cef3-11ec-a6e0-42010a8a000b',\n",
       "  'pred': '1',\n",
       "  'confidence': 0.8481917},\n",
       " {'uuid': '2fada042-cefb-11ec-a6e0-42010a8a000b',\n",
       "  'pred': '1',\n",
       "  'confidence': 0.9987587},\n",
       " {'uuid': '577d837c-cef5-11ec-a6e0-42010a8a000b',\n",
       "  'pred': '0',\n",
       "  'confidence': 0.9332582},\n",
       " {'uuid': 'e0ff510a-cefc-11ec-a6e0-42010a8a000b',\n",
       "  'pred': '1',\n",
       "  'confidence': 0.9944382},\n",
       " {'uuid': 'f490f470-cef8-11ec-a6e0-42010a8a000b',\n",
       "  'pred': '0',\n",
       "  'confidence': 0.58264315}]"
      ]
     },
     "execution_count": 23,
     "metadata": {},
     "output_type": "execute_result"
    }
   ],
   "source": [
    "prediction_processed[:5]"
   ]
  },
  {
   "cell_type": "markdown",
   "id": "589f429c-98a4-47c2-9bb6-2129096913dc",
   "metadata": {},
   "source": [
    "## Step 4: Data Analysis"
   ]
  },
  {
   "cell_type": "markdown",
   "id": "a6367ff4-3a78-4d40-8341-b8fa7caa32c6",
   "metadata": {},
   "source": [
    "#### Convert all previous data to dataframe"
   ]
  },
  {
   "cell_type": "code",
   "execution_count": null,
   "id": "3c3dbe07-faa7-42c1-b082-3329521bf8eb",
   "metadata": {},
   "outputs": [],
   "source": [
    "import pandas as pd\n",
    "\n",
    "prediction_processed_df = pd.DataFrame(prediction_processed)\n",
    "posts_travel_df = pd.read_json('posts_travel_processed.json')"
   ]
  },
  {
   "cell_type": "markdown",
   "id": "e439ae51-1965-491d-99d5-1af9c745f392",
   "metadata": {},
   "source": [
    "Print the first 5 rows of predicted result to look at data structure and format"
   ]
  },
  {
   "cell_type": "code",
   "execution_count": 25,
   "id": "d6f7139f-1c91-49fe-af2b-621fba3522ee",
   "metadata": {},
   "outputs": [
    {
     "data": {
      "text/html": [
       "<div>\n",
       "<style scoped>\n",
       "    .dataframe tbody tr th:only-of-type {\n",
       "        vertical-align: middle;\n",
       "    }\n",
       "\n",
       "    .dataframe tbody tr th {\n",
       "        vertical-align: top;\n",
       "    }\n",
       "\n",
       "    .dataframe thead th {\n",
       "        text-align: right;\n",
       "    }\n",
       "</style>\n",
       "<table border=\"1\" class=\"dataframe\">\n",
       "  <thead>\n",
       "    <tr style=\"text-align: right;\">\n",
       "      <th></th>\n",
       "      <th>uuid</th>\n",
       "      <th>pred</th>\n",
       "      <th>confidence</th>\n",
       "    </tr>\n",
       "  </thead>\n",
       "  <tbody>\n",
       "    <tr>\n",
       "      <th>0</th>\n",
       "      <td>e4b1f932-cef3-11ec-a6e0-42010a8a000b</td>\n",
       "      <td>1</td>\n",
       "      <td>0.848192</td>\n",
       "    </tr>\n",
       "    <tr>\n",
       "      <th>1</th>\n",
       "      <td>2fada042-cefb-11ec-a6e0-42010a8a000b</td>\n",
       "      <td>1</td>\n",
       "      <td>0.998759</td>\n",
       "    </tr>\n",
       "    <tr>\n",
       "      <th>2</th>\n",
       "      <td>577d837c-cef5-11ec-a6e0-42010a8a000b</td>\n",
       "      <td>0</td>\n",
       "      <td>0.933258</td>\n",
       "    </tr>\n",
       "    <tr>\n",
       "      <th>3</th>\n",
       "      <td>e0ff510a-cefc-11ec-a6e0-42010a8a000b</td>\n",
       "      <td>1</td>\n",
       "      <td>0.994438</td>\n",
       "    </tr>\n",
       "    <tr>\n",
       "      <th>4</th>\n",
       "      <td>f490f470-cef8-11ec-a6e0-42010a8a000b</td>\n",
       "      <td>0</td>\n",
       "      <td>0.582643</td>\n",
       "    </tr>\n",
       "  </tbody>\n",
       "</table>\n",
       "</div>"
      ],
      "text/plain": [
       "                                   uuid pred  confidence\n",
       "0  e4b1f932-cef3-11ec-a6e0-42010a8a000b    1    0.848192\n",
       "1  2fada042-cefb-11ec-a6e0-42010a8a000b    1    0.998759\n",
       "2  577d837c-cef5-11ec-a6e0-42010a8a000b    0    0.933258\n",
       "3  e0ff510a-cefc-11ec-a6e0-42010a8a000b    1    0.994438\n",
       "4  f490f470-cef8-11ec-a6e0-42010a8a000b    0    0.582643"
      ]
     },
     "execution_count": 25,
     "metadata": {},
     "output_type": "execute_result"
    }
   ],
   "source": [
    "prediction_processed_df.head(5)"
   ]
  },
  {
   "cell_type": "markdown",
   "id": "3fe8904e-b0ad-4720-b196-5f0d7f83982f",
   "metadata": {},
   "source": [
    "Print the first 5 rows of processed data to look at data structure and format"
   ]
  },
  {
   "cell_type": "code",
   "execution_count": 27,
   "id": "0e8b743a-bc59-46ae-aa04-9c57e61b05fa",
   "metadata": {},
   "outputs": [
    {
     "data": {
      "text/html": [
       "<div>\n",
       "<style scoped>\n",
       "    .dataframe tbody tr th:only-of-type {\n",
       "        vertical-align: middle;\n",
       "    }\n",
       "\n",
       "    .dataframe tbody tr th {\n",
       "        vertical-align: top;\n",
       "    }\n",
       "\n",
       "    .dataframe thead th {\n",
       "        text-align: right;\n",
       "    }\n",
       "</style>\n",
       "<table border=\"1\" class=\"dataframe\">\n",
       "  <thead>\n",
       "    <tr style=\"text-align: right;\">\n",
       "      <th></th>\n",
       "      <th>post_id</th>\n",
       "      <th>resource</th>\n",
       "      <th>title</th>\n",
       "      <th>msg</th>\n",
       "      <th>author</th>\n",
       "      <th>date</th>\n",
       "      <th>ner</th>\n",
       "      <th>uuid</th>\n",
       "    </tr>\n",
       "  </thead>\n",
       "  <tbody>\n",
       "    <tr>\n",
       "      <th>0</th>\n",
       "      <td>lihkg_1114972</td>\n",
       "      <td>lihkg</td>\n",
       "      <td>有冇人暑假會喺中亞?</td>\n",
       "      <td>哈薩克睇山水風景 一個禮拜包車係勉強夠嘅 但只可以去到喺almaty附近嘅景點</td>\n",
       "      <td>你老闆再慢啲?</td>\n",
       "      <td>2019-05-06 10:13:24+00:00</td>\n",
       "      <td>[[哈萨克, S-GPE], [喺almaty, S-GPE]]</td>\n",
       "      <td>d80bdc6e-ced2-11ec-a6e0-42010a8a000b</td>\n",
       "    </tr>\n",
       "    <tr>\n",
       "      <th>1</th>\n",
       "      <td>lihkg_1114972</td>\n",
       "      <td>lihkg</td>\n",
       "      <td>有冇人暑假會喺中亞?</td>\n",
       "      <td>如果有得揀，其實中亞五國都應該用BNO添，Visa兩邊難度都差唔多，弊咗屋企柒菇碌冇申請BNO</td>\n",
       "      <td>基輔七十一</td>\n",
       "      <td>2019-05-07 04:44:20+00:00</td>\n",
       "      <td>[[中, S-GPE], [亚, S-GPE]]</td>\n",
       "      <td>d81ab072-ced2-11ec-a6e0-42010a8a000b</td>\n",
       "    </tr>\n",
       "    <tr>\n",
       "      <th>2</th>\n",
       "      <td>lihkg_1114972</td>\n",
       "      <td>lihkg</td>\n",
       "      <td>有冇人暑假會喺中亞?</td>\n",
       "      <td>係 佢會照批，反而塔吉克我仲未識填</td>\n",
       "      <td>基輔七十一</td>\n",
       "      <td>2019-05-09 16:30:57+00:00</td>\n",
       "      <td>[[塔吉克, S-GPE]]</td>\n",
       "      <td>d825f1f8-ced2-11ec-a6e0-42010a8a000b</td>\n",
       "    </tr>\n",
       "    <tr>\n",
       "      <th>3</th>\n",
       "      <td>lihkg_1114972</td>\n",
       "      <td>lihkg</td>\n",
       "      <td>有冇人暑假會喺中亞?</td>\n",
       "      <td>中意山同大自然，下個月一個人去哈薩克5日，除左Charyn Canyon同Big Almat...</td>\n",
       "      <td>沒挽手才伶仃</td>\n",
       "      <td>2019-05-09 17:33:52+00:00</td>\n",
       "      <td>[[哈萨克, S-GPE]]</td>\n",
       "      <td>d8320b50-ced2-11ec-a6e0-42010a8a000b</td>\n",
       "    </tr>\n",
       "    <tr>\n",
       "      <th>4</th>\n",
       "      <td>lihkg_1114972</td>\n",
       "      <td>lihkg</td>\n",
       "      <td>有冇人暑假會喺中亞?</td>\n",
       "      <td>啱啱去到吉爾吉斯啦，1800 tenge 由Almaty直送入Bishkek，有冇人喺度呀</td>\n",
       "      <td>基輔七十一</td>\n",
       "      <td>2019-05-19 12:11:33+00:00</td>\n",
       "      <td>[[吉尔吉斯, S-GPE]]</td>\n",
       "      <td>d83d5be0-ced2-11ec-a6e0-42010a8a000b</td>\n",
       "    </tr>\n",
       "  </tbody>\n",
       "</table>\n",
       "</div>"
      ],
      "text/plain": [
       "         post_id resource       title  \\\n",
       "0  lihkg_1114972    lihkg  有冇人暑假會喺中亞?   \n",
       "1  lihkg_1114972    lihkg  有冇人暑假會喺中亞?   \n",
       "2  lihkg_1114972    lihkg  有冇人暑假會喺中亞?   \n",
       "3  lihkg_1114972    lihkg  有冇人暑假會喺中亞?   \n",
       "4  lihkg_1114972    lihkg  有冇人暑假會喺中亞?   \n",
       "\n",
       "                                                 msg   author  \\\n",
       "0            哈薩克睇山水風景 一個禮拜包車係勉強夠嘅 但只可以去到喺almaty附近嘅景點  你老闆再慢啲?   \n",
       "1    如果有得揀，其實中亞五國都應該用BNO添，Visa兩邊難度都差唔多，弊咗屋企柒菇碌冇申請BNO    基輔七十一   \n",
       "2                                  係 佢會照批，反而塔吉克我仲未識填    基輔七十一   \n",
       "3  中意山同大自然，下個月一個人去哈薩克5日，除左Charyn Canyon同Big Almat...   沒挽手才伶仃   \n",
       "4      啱啱去到吉爾吉斯啦，1800 tenge 由Almaty直送入Bishkek，有冇人喺度呀    基輔七十一   \n",
       "\n",
       "                       date                               ner  \\\n",
       "0 2019-05-06 10:13:24+00:00  [[哈萨克, S-GPE], [喺almaty, S-GPE]]   \n",
       "1 2019-05-07 04:44:20+00:00          [[中, S-GPE], [亚, S-GPE]]   \n",
       "2 2019-05-09 16:30:57+00:00                    [[塔吉克, S-GPE]]   \n",
       "3 2019-05-09 17:33:52+00:00                    [[哈萨克, S-GPE]]   \n",
       "4 2019-05-19 12:11:33+00:00                   [[吉尔吉斯, S-GPE]]   \n",
       "\n",
       "                                   uuid  \n",
       "0  d80bdc6e-ced2-11ec-a6e0-42010a8a000b  \n",
       "1  d81ab072-ced2-11ec-a6e0-42010a8a000b  \n",
       "2  d825f1f8-ced2-11ec-a6e0-42010a8a000b  \n",
       "3  d8320b50-ced2-11ec-a6e0-42010a8a000b  \n",
       "4  d83d5be0-ced2-11ec-a6e0-42010a8a000b  "
      ]
     },
     "execution_count": 27,
     "metadata": {},
     "output_type": "execute_result"
    }
   ],
   "source": [
    "posts_travel_df.head(5)"
   ]
  },
  {
   "cell_type": "markdown",
   "id": "fa0ce74f-24b3-4fba-ba1d-2a8cc633647d",
   "metadata": {},
   "source": [
    "#### Join both dataframes using uuid"
   ]
  },
  {
   "cell_type": "code",
   "execution_count": null,
   "id": "091c0f3f-0062-4dba-ad8d-be053737ecdd",
   "metadata": {},
   "outputs": [],
   "source": [
    "post_travel_joined = pd.merge(posts_travel_df, data_processed_df, on=\"uuid\", \n",
    "                               how=\"left\")"
   ]
  },
  {
   "cell_type": "code",
   "execution_count": 190,
   "id": "3efb18a5-d2da-4aa1-b242-b6284f6c5acb",
   "metadata": {},
   "outputs": [
    {
     "data": {
      "text/html": [
       "<div>\n",
       "<style scoped>\n",
       "    .dataframe tbody tr th:only-of-type {\n",
       "        vertical-align: middle;\n",
       "    }\n",
       "\n",
       "    .dataframe tbody tr th {\n",
       "        vertical-align: top;\n",
       "    }\n",
       "\n",
       "    .dataframe thead th {\n",
       "        text-align: right;\n",
       "    }\n",
       "</style>\n",
       "<table border=\"1\" class=\"dataframe\">\n",
       "  <thead>\n",
       "    <tr style=\"text-align: right;\">\n",
       "      <th></th>\n",
       "      <th>post_id</th>\n",
       "      <th>resource</th>\n",
       "      <th>title</th>\n",
       "      <th>msg</th>\n",
       "      <th>author</th>\n",
       "      <th>date</th>\n",
       "      <th>ner</th>\n",
       "      <th>uuid</th>\n",
       "      <th>pred</th>\n",
       "      <th>confidence</th>\n",
       "    </tr>\n",
       "  </thead>\n",
       "  <tbody>\n",
       "    <tr>\n",
       "      <th>0</th>\n",
       "      <td>lihkg_1114972</td>\n",
       "      <td>lihkg</td>\n",
       "      <td>有冇人暑假會喺中亞?</td>\n",
       "      <td>哈薩克睇山水風景 一個禮拜包車係勉強夠嘅 但只可以去到喺almaty附近嘅景點</td>\n",
       "      <td>你老闆再慢啲?</td>\n",
       "      <td>2019-05-06 10:13:24+00:00</td>\n",
       "      <td>[[哈萨克, S-GPE], [喺almaty, S-GPE]]</td>\n",
       "      <td>d80bdc6e-ced2-11ec-a6e0-42010a8a000b</td>\n",
       "      <td>0</td>\n",
       "      <td>0.557367</td>\n",
       "    </tr>\n",
       "    <tr>\n",
       "      <th>1</th>\n",
       "      <td>lihkg_1114972</td>\n",
       "      <td>lihkg</td>\n",
       "      <td>有冇人暑假會喺中亞?</td>\n",
       "      <td>如果有得揀，其實中亞五國都應該用BNO添，Visa兩邊難度都差唔多，弊咗屋企柒菇碌冇申請BNO</td>\n",
       "      <td>基輔七十一</td>\n",
       "      <td>2019-05-07 04:44:20+00:00</td>\n",
       "      <td>[[中, S-GPE], [亚, S-GPE]]</td>\n",
       "      <td>d81ab072-ced2-11ec-a6e0-42010a8a000b</td>\n",
       "      <td>0</td>\n",
       "      <td>0.816546</td>\n",
       "    </tr>\n",
       "    <tr>\n",
       "      <th>2</th>\n",
       "      <td>lihkg_1114972</td>\n",
       "      <td>lihkg</td>\n",
       "      <td>有冇人暑假會喺中亞?</td>\n",
       "      <td>係 佢會照批，反而塔吉克我仲未識填</td>\n",
       "      <td>基輔七十一</td>\n",
       "      <td>2019-05-09 16:30:57+00:00</td>\n",
       "      <td>[[塔吉克, S-GPE]]</td>\n",
       "      <td>d825f1f8-ced2-11ec-a6e0-42010a8a000b</td>\n",
       "      <td>1</td>\n",
       "      <td>0.584126</td>\n",
       "    </tr>\n",
       "    <tr>\n",
       "      <th>3</th>\n",
       "      <td>lihkg_1114972</td>\n",
       "      <td>lihkg</td>\n",
       "      <td>有冇人暑假會喺中亞?</td>\n",
       "      <td>中意山同大自然，下個月一個人去哈薩克5日，除左Charyn Canyon同Big Almat...</td>\n",
       "      <td>沒挽手才伶仃</td>\n",
       "      <td>2019-05-09 17:33:52+00:00</td>\n",
       "      <td>[[哈萨克, S-GPE]]</td>\n",
       "      <td>d8320b50-ced2-11ec-a6e0-42010a8a000b</td>\n",
       "      <td>1</td>\n",
       "      <td>0.906053</td>\n",
       "    </tr>\n",
       "    <tr>\n",
       "      <th>4</th>\n",
       "      <td>lihkg_1114972</td>\n",
       "      <td>lihkg</td>\n",
       "      <td>有冇人暑假會喺中亞?</td>\n",
       "      <td>啱啱去到吉爾吉斯啦，1800 tenge 由Almaty直送入Bishkek，有冇人喺度呀</td>\n",
       "      <td>基輔七十一</td>\n",
       "      <td>2019-05-19 12:11:33+00:00</td>\n",
       "      <td>[[吉尔吉斯, S-GPE]]</td>\n",
       "      <td>d83d5be0-ced2-11ec-a6e0-42010a8a000b</td>\n",
       "      <td>0</td>\n",
       "      <td>0.510132</td>\n",
       "    </tr>\n",
       "  </tbody>\n",
       "</table>\n",
       "</div>"
      ],
      "text/plain": [
       "         post_id resource       title  \\\n",
       "0  lihkg_1114972    lihkg  有冇人暑假會喺中亞?   \n",
       "1  lihkg_1114972    lihkg  有冇人暑假會喺中亞?   \n",
       "2  lihkg_1114972    lihkg  有冇人暑假會喺中亞?   \n",
       "3  lihkg_1114972    lihkg  有冇人暑假會喺中亞?   \n",
       "4  lihkg_1114972    lihkg  有冇人暑假會喺中亞?   \n",
       "\n",
       "                                                 msg   author  \\\n",
       "0            哈薩克睇山水風景 一個禮拜包車係勉強夠嘅 但只可以去到喺almaty附近嘅景點  你老闆再慢啲?   \n",
       "1    如果有得揀，其實中亞五國都應該用BNO添，Visa兩邊難度都差唔多，弊咗屋企柒菇碌冇申請BNO    基輔七十一   \n",
       "2                                  係 佢會照批，反而塔吉克我仲未識填    基輔七十一   \n",
       "3  中意山同大自然，下個月一個人去哈薩克5日，除左Charyn Canyon同Big Almat...   沒挽手才伶仃   \n",
       "4      啱啱去到吉爾吉斯啦，1800 tenge 由Almaty直送入Bishkek，有冇人喺度呀    基輔七十一   \n",
       "\n",
       "                       date                               ner  \\\n",
       "0 2019-05-06 10:13:24+00:00  [[哈萨克, S-GPE], [喺almaty, S-GPE]]   \n",
       "1 2019-05-07 04:44:20+00:00          [[中, S-GPE], [亚, S-GPE]]   \n",
       "2 2019-05-09 16:30:57+00:00                    [[塔吉克, S-GPE]]   \n",
       "3 2019-05-09 17:33:52+00:00                    [[哈萨克, S-GPE]]   \n",
       "4 2019-05-19 12:11:33+00:00                   [[吉尔吉斯, S-GPE]]   \n",
       "\n",
       "                                   uuid pred  confidence  \n",
       "0  d80bdc6e-ced2-11ec-a6e0-42010a8a000b    0    0.557367  \n",
       "1  d81ab072-ced2-11ec-a6e0-42010a8a000b    0    0.816546  \n",
       "2  d825f1f8-ced2-11ec-a6e0-42010a8a000b    1    0.584126  \n",
       "3  d8320b50-ced2-11ec-a6e0-42010a8a000b    1    0.906053  \n",
       "4  d83d5be0-ced2-11ec-a6e0-42010a8a000b    0    0.510132  "
      ]
     },
     "execution_count": 190,
     "metadata": {},
     "output_type": "execute_result"
    }
   ],
   "source": [
    "post_travel_joined.head(5)"
   ]
  },
  {
   "cell_type": "markdown",
   "id": "56ca637f-eab8-4eeb-be22-a65ed84cec8f",
   "metadata": {},
   "source": [
    "Check the prediction distribution"
   ]
  },
  {
   "cell_type": "code",
   "execution_count": 183,
   "id": "355e67c1-d84b-4084-86d2-d38e9e432a63",
   "metadata": {},
   "outputs": [
    {
     "data": {
      "text/plain": [
       "<AxesSubplot:>"
      ]
     },
     "execution_count": 183,
     "metadata": {},
     "output_type": "execute_result"
    },
    {
     "data": {
      "image/png": "[encoded data removed]",
      "text/plain": [
       "<Figure size 432x288 with 1 Axes>"
      ]
     },
     "metadata": {
      "needs_background": "light"
     },
     "output_type": "display_data"
    }
   ],
   "source": [
    "post_travel_joined['pred'].hist()"
   ]
  },
  {
   "cell_type": "markdown",
   "id": "87390ce2-4eee-4872-b62a-84ecf7bd1509",
   "metadata": {},
   "source": [
    "#### Data needs to be further processed in order to perform groupby function"
   ]
  },
  {
   "cell_type": "code",
   "execution_count": null,
   "id": "ecac2d88-5db3-47d0-a304-96be31f0c0b6",
   "metadata": {},
   "outputs": [],
   "source": [
    "def ner_process(x):\n",
    "    result = []\n",
    "    for gpe in x:\n",
    "        result.append(gpe[0])\n",
    "    \n",
    "    return result\n",
    "\n",
    "# Remove S-GPE tagging in ner\n",
    "post_travel_joined['ner_processed'] = post_travel_joined['ner'].apply(ner_process)\n",
    "# Convert date string to be datetime\n",
    "post_travel_joined['datetime'] = pd.to_datetime(post_travel_joined['date'])\n",
    "# Extract year and month\n",
    "post_travel_joined['year'] = post_travel_joined['datetime'].dt.year\n",
    "post_travel_joined['month'] = post_travel_joined['datetime'].dt.month\n",
    "\n",
    "# Split every ner result into individual rows\n",
    "post_travel_joined = post_travel_joined.explode('ner_processed')"
   ]
  },
  {
   "cell_type": "code",
   "execution_count": 192,
   "id": "f1b03314-60b5-422a-868c-bd259907cbd7",
   "metadata": {},
   "outputs": [
    {
     "data": {
      "text/html": [
       "<div>\n",
       "<style scoped>\n",
       "    .dataframe tbody tr th:only-of-type {\n",
       "        vertical-align: middle;\n",
       "    }\n",
       "\n",
       "    .dataframe tbody tr th {\n",
       "        vertical-align: top;\n",
       "    }\n",
       "\n",
       "    .dataframe thead th {\n",
       "        text-align: right;\n",
       "    }\n",
       "</style>\n",
       "<table border=\"1\" class=\"dataframe\">\n",
       "  <thead>\n",
       "    <tr style=\"text-align: right;\">\n",
       "      <th></th>\n",
       "      <th>post_id</th>\n",
       "      <th>resource</th>\n",
       "      <th>title</th>\n",
       "      <th>msg</th>\n",
       "      <th>author</th>\n",
       "      <th>date</th>\n",
       "      <th>ner</th>\n",
       "      <th>uuid</th>\n",
       "      <th>pred</th>\n",
       "      <th>confidence</th>\n",
       "      <th>ner_processed</th>\n",
       "      <th>datetime</th>\n",
       "      <th>year</th>\n",
       "      <th>month</th>\n",
       "    </tr>\n",
       "  </thead>\n",
       "  <tbody>\n",
       "    <tr>\n",
       "      <th>0</th>\n",
       "      <td>lihkg_1114972</td>\n",
       "      <td>lihkg</td>\n",
       "      <td>有冇人暑假會喺中亞?</td>\n",
       "      <td>哈薩克睇山水風景 一個禮拜包車係勉強夠嘅 但只可以去到喺almaty附近嘅景點</td>\n",
       "      <td>你老闆再慢啲?</td>\n",
       "      <td>2019-05-06 10:13:24+00:00</td>\n",
       "      <td>[[哈萨克, S-GPE], [喺almaty, S-GPE]]</td>\n",
       "      <td>d80bdc6e-ced2-11ec-a6e0-42010a8a000b</td>\n",
       "      <td>0</td>\n",
       "      <td>0.557367</td>\n",
       "      <td>哈萨克</td>\n",
       "      <td>2019-05-06 10:13:24+00:00</td>\n",
       "      <td>2019</td>\n",
       "      <td>5</td>\n",
       "    </tr>\n",
       "    <tr>\n",
       "      <th>0</th>\n",
       "      <td>lihkg_1114972</td>\n",
       "      <td>lihkg</td>\n",
       "      <td>有冇人暑假會喺中亞?</td>\n",
       "      <td>哈薩克睇山水風景 一個禮拜包車係勉強夠嘅 但只可以去到喺almaty附近嘅景點</td>\n",
       "      <td>你老闆再慢啲?</td>\n",
       "      <td>2019-05-06 10:13:24+00:00</td>\n",
       "      <td>[[哈萨克, S-GPE], [喺almaty, S-GPE]]</td>\n",
       "      <td>d80bdc6e-ced2-11ec-a6e0-42010a8a000b</td>\n",
       "      <td>0</td>\n",
       "      <td>0.557367</td>\n",
       "      <td>喺almaty</td>\n",
       "      <td>2019-05-06 10:13:24+00:00</td>\n",
       "      <td>2019</td>\n",
       "      <td>5</td>\n",
       "    </tr>\n",
       "    <tr>\n",
       "      <th>1</th>\n",
       "      <td>lihkg_1114972</td>\n",
       "      <td>lihkg</td>\n",
       "      <td>有冇人暑假會喺中亞?</td>\n",
       "      <td>如果有得揀，其實中亞五國都應該用BNO添，Visa兩邊難度都差唔多，弊咗屋企柒菇碌冇申請BNO</td>\n",
       "      <td>基輔七十一</td>\n",
       "      <td>2019-05-07 04:44:20+00:00</td>\n",
       "      <td>[[中, S-GPE], [亚, S-GPE]]</td>\n",
       "      <td>d81ab072-ced2-11ec-a6e0-42010a8a000b</td>\n",
       "      <td>0</td>\n",
       "      <td>0.816546</td>\n",
       "      <td>中</td>\n",
       "      <td>2019-05-07 04:44:20+00:00</td>\n",
       "      <td>2019</td>\n",
       "      <td>5</td>\n",
       "    </tr>\n",
       "    <tr>\n",
       "      <th>1</th>\n",
       "      <td>lihkg_1114972</td>\n",
       "      <td>lihkg</td>\n",
       "      <td>有冇人暑假會喺中亞?</td>\n",
       "      <td>如果有得揀，其實中亞五國都應該用BNO添，Visa兩邊難度都差唔多，弊咗屋企柒菇碌冇申請BNO</td>\n",
       "      <td>基輔七十一</td>\n",
       "      <td>2019-05-07 04:44:20+00:00</td>\n",
       "      <td>[[中, S-GPE], [亚, S-GPE]]</td>\n",
       "      <td>d81ab072-ced2-11ec-a6e0-42010a8a000b</td>\n",
       "      <td>0</td>\n",
       "      <td>0.816546</td>\n",
       "      <td>亚</td>\n",
       "      <td>2019-05-07 04:44:20+00:00</td>\n",
       "      <td>2019</td>\n",
       "      <td>5</td>\n",
       "    </tr>\n",
       "    <tr>\n",
       "      <th>2</th>\n",
       "      <td>lihkg_1114972</td>\n",
       "      <td>lihkg</td>\n",
       "      <td>有冇人暑假會喺中亞?</td>\n",
       "      <td>係 佢會照批，反而塔吉克我仲未識填</td>\n",
       "      <td>基輔七十一</td>\n",
       "      <td>2019-05-09 16:30:57+00:00</td>\n",
       "      <td>[[塔吉克, S-GPE]]</td>\n",
       "      <td>d825f1f8-ced2-11ec-a6e0-42010a8a000b</td>\n",
       "      <td>1</td>\n",
       "      <td>0.584126</td>\n",
       "      <td>塔吉克</td>\n",
       "      <td>2019-05-09 16:30:57+00:00</td>\n",
       "      <td>2019</td>\n",
       "      <td>5</td>\n",
       "    </tr>\n",
       "  </tbody>\n",
       "</table>\n",
       "</div>"
      ],
      "text/plain": [
       "         post_id resource       title  \\\n",
       "0  lihkg_1114972    lihkg  有冇人暑假會喺中亞?   \n",
       "0  lihkg_1114972    lihkg  有冇人暑假會喺中亞?   \n",
       "1  lihkg_1114972    lihkg  有冇人暑假會喺中亞?   \n",
       "1  lihkg_1114972    lihkg  有冇人暑假會喺中亞?   \n",
       "2  lihkg_1114972    lihkg  有冇人暑假會喺中亞?   \n",
       "\n",
       "                                               msg   author  \\\n",
       "0          哈薩克睇山水風景 一個禮拜包車係勉強夠嘅 但只可以去到喺almaty附近嘅景點  你老闆再慢啲?   \n",
       "0          哈薩克睇山水風景 一個禮拜包車係勉強夠嘅 但只可以去到喺almaty附近嘅景點  你老闆再慢啲?   \n",
       "1  如果有得揀，其實中亞五國都應該用BNO添，Visa兩邊難度都差唔多，弊咗屋企柒菇碌冇申請BNO    基輔七十一   \n",
       "1  如果有得揀，其實中亞五國都應該用BNO添，Visa兩邊難度都差唔多，弊咗屋企柒菇碌冇申請BNO    基輔七十一   \n",
       "2                                係 佢會照批，反而塔吉克我仲未識填    基輔七十一   \n",
       "\n",
       "                       date                               ner  \\\n",
       "0 2019-05-06 10:13:24+00:00  [[哈萨克, S-GPE], [喺almaty, S-GPE]]   \n",
       "0 2019-05-06 10:13:24+00:00  [[哈萨克, S-GPE], [喺almaty, S-GPE]]   \n",
       "1 2019-05-07 04:44:20+00:00          [[中, S-GPE], [亚, S-GPE]]   \n",
       "1 2019-05-07 04:44:20+00:00          [[中, S-GPE], [亚, S-GPE]]   \n",
       "2 2019-05-09 16:30:57+00:00                    [[塔吉克, S-GPE]]   \n",
       "\n",
       "                                   uuid pred  confidence ner_processed  \\\n",
       "0  d80bdc6e-ced2-11ec-a6e0-42010a8a000b    0    0.557367           哈萨克   \n",
       "0  d80bdc6e-ced2-11ec-a6e0-42010a8a000b    0    0.557367       喺almaty   \n",
       "1  d81ab072-ced2-11ec-a6e0-42010a8a000b    0    0.816546             中   \n",
       "1  d81ab072-ced2-11ec-a6e0-42010a8a000b    0    0.816546             亚   \n",
       "2  d825f1f8-ced2-11ec-a6e0-42010a8a000b    1    0.584126           塔吉克   \n",
       "\n",
       "                   datetime  year  month  \n",
       "0 2019-05-06 10:13:24+00:00  2019      5  \n",
       "0 2019-05-06 10:13:24+00:00  2019      5  \n",
       "1 2019-05-07 04:44:20+00:00  2019      5  \n",
       "1 2019-05-07 04:44:20+00:00  2019      5  \n",
       "2 2019-05-09 16:30:57+00:00  2019      5  "
      ]
     },
     "execution_count": 192,
     "metadata": {},
     "output_type": "execute_result"
    }
   ],
   "source": [
    "post_travel_joined.head(5)"
   ]
  },
  {
   "cell_type": "markdown",
   "id": "983c1194-7405-4b8d-81a1-84659f61292c",
   "metadata": {},
   "source": [
    "#### Split into two dataframes: to go and not to go"
   ]
  },
  {
   "cell_type": "code",
   "execution_count": null,
   "id": "d8814ca4-7ef6-4c0d-a83b-6c29577f5966",
   "metadata": {},
   "outputs": [],
   "source": [
    "post_travel_go = post_travel_joined[post_travel_joined['pred'] == \"1\"]\n",
    "post_travel_not_go = post_travel_joined[post_travel_joined['pred'] == \"2\"]"
   ]
  },
  {
   "cell_type": "code",
   "execution_count": 179,
   "id": "8174128d-4fc0-4842-9d38-47218fb5c835",
   "metadata": {
    "tags": []
   },
   "outputs": [
    {
     "data": {
      "text/html": [
       "<div>\n",
       "<style scoped>\n",
       "    .dataframe tbody tr th:only-of-type {\n",
       "        vertical-align: middle;\n",
       "    }\n",
       "\n",
       "    .dataframe tbody tr th {\n",
       "        vertical-align: top;\n",
       "    }\n",
       "\n",
       "    .dataframe thead th {\n",
       "        text-align: right;\n",
       "    }\n",
       "</style>\n",
       "<table border=\"1\" class=\"dataframe\">\n",
       "  <thead>\n",
       "    <tr style=\"text-align: right;\">\n",
       "      <th></th>\n",
       "      <th>post_id</th>\n",
       "      <th>resource</th>\n",
       "      <th>title</th>\n",
       "      <th>msg</th>\n",
       "      <th>author</th>\n",
       "      <th>date</th>\n",
       "      <th>ner</th>\n",
       "      <th>uuid</th>\n",
       "      <th>pred</th>\n",
       "      <th>confidence</th>\n",
       "      <th>ner_processed</th>\n",
       "      <th>datetime</th>\n",
       "      <th>year</th>\n",
       "      <th>month</th>\n",
       "    </tr>\n",
       "  </thead>\n",
       "  <tbody>\n",
       "    <tr>\n",
       "      <th>2</th>\n",
       "      <td>lihkg_1114972</td>\n",
       "      <td>lihkg</td>\n",
       "      <td>有冇人暑假會喺中亞?</td>\n",
       "      <td>係 佢會照批，反而塔吉克我仲未識填</td>\n",
       "      <td>基輔七十一</td>\n",
       "      <td>2019-05-09 16:30:57+00:00</td>\n",
       "      <td>[[塔吉克, S-GPE]]</td>\n",
       "      <td>d825f1f8-ced2-11ec-a6e0-42010a8a000b</td>\n",
       "      <td>1</td>\n",
       "      <td>0.584126</td>\n",
       "      <td>塔吉克</td>\n",
       "      <td>2019-05-09 16:30:57+00:00</td>\n",
       "      <td>2019</td>\n",
       "      <td>5</td>\n",
       "    </tr>\n",
       "    <tr>\n",
       "      <th>3</th>\n",
       "      <td>lihkg_1114972</td>\n",
       "      <td>lihkg</td>\n",
       "      <td>有冇人暑假會喺中亞?</td>\n",
       "      <td>中意山同大自然，下個月一個人去哈薩克5日，除左Charyn Canyon同Big Almat...</td>\n",
       "      <td>沒挽手才伶仃</td>\n",
       "      <td>2019-05-09 17:33:52+00:00</td>\n",
       "      <td>[[哈萨克, S-GPE]]</td>\n",
       "      <td>d8320b50-ced2-11ec-a6e0-42010a8a000b</td>\n",
       "      <td>1</td>\n",
       "      <td>0.906053</td>\n",
       "      <td>哈萨克</td>\n",
       "      <td>2019-05-09 17:33:52+00:00</td>\n",
       "      <td>2019</td>\n",
       "      <td>5</td>\n",
       "    </tr>\n",
       "    <tr>\n",
       "      <th>6</th>\n",
       "      <td>lihkg_1114972</td>\n",
       "      <td>lihkg</td>\n",
       "      <td>有冇人暑假會喺中亞?</td>\n",
       "      <td>問個膠膠地既問題 想知六月尾去哈薩克仲有冇得滑雪 定係個到已經close 左 諗住冇得滑都想...</td>\n",
       "      <td>你望下個天係咩色</td>\n",
       "      <td>2019-05-30 04:02:53+00:00</td>\n",
       "      <td>[[哈萨克, S-GPE]]</td>\n",
       "      <td>d858e324-ced2-11ec-a6e0-42010a8a000b</td>\n",
       "      <td>1</td>\n",
       "      <td>0.665911</td>\n",
       "      <td>哈萨克</td>\n",
       "      <td>2019-05-30 04:02:53+00:00</td>\n",
       "      <td>2019</td>\n",
       "      <td>5</td>\n",
       "    </tr>\n",
       "    <tr>\n",
       "      <th>10</th>\n",
       "      <td>lihkg_1115430</td>\n",
       "      <td>lihkg</td>\n",
       "      <td>有無人番香港delay緊</td>\n",
       "      <td>我香港飛台灣</td>\n",
       "      <td>咪咪磨磨</td>\n",
       "      <td>2019-04-19 08:09:56+00:00</td>\n",
       "      <td>[[香港, S-GPE], [台湾, S-GPE]]</td>\n",
       "      <td>d890d11c-ced2-11ec-a6e0-42010a8a000b</td>\n",
       "      <td>1</td>\n",
       "      <td>0.484573</td>\n",
       "      <td>香港</td>\n",
       "      <td>2019-04-19 08:09:56+00:00</td>\n",
       "      <td>2019</td>\n",
       "      <td>4</td>\n",
       "    </tr>\n",
       "    <tr>\n",
       "      <th>10</th>\n",
       "      <td>lihkg_1115430</td>\n",
       "      <td>lihkg</td>\n",
       "      <td>有無人番香港delay緊</td>\n",
       "      <td>我香港飛台灣</td>\n",
       "      <td>咪咪磨磨</td>\n",
       "      <td>2019-04-19 08:09:56+00:00</td>\n",
       "      <td>[[香港, S-GPE], [台湾, S-GPE]]</td>\n",
       "      <td>d890d11c-ced2-11ec-a6e0-42010a8a000b</td>\n",
       "      <td>1</td>\n",
       "      <td>0.484573</td>\n",
       "      <td>台湾</td>\n",
       "      <td>2019-04-19 08:09:56+00:00</td>\n",
       "      <td>2019</td>\n",
       "      <td>4</td>\n",
       "    </tr>\n",
       "  </tbody>\n",
       "</table>\n",
       "</div>"
      ],
      "text/plain": [
       "          post_id resource         title  \\\n",
       "2   lihkg_1114972    lihkg    有冇人暑假會喺中亞?   \n",
       "3   lihkg_1114972    lihkg    有冇人暑假會喺中亞?   \n",
       "6   lihkg_1114972    lihkg    有冇人暑假會喺中亞?   \n",
       "10  lihkg_1115430    lihkg  有無人番香港delay緊   \n",
       "10  lihkg_1115430    lihkg  有無人番香港delay緊   \n",
       "\n",
       "                                                  msg    author  \\\n",
       "2                                   係 佢會照批，反而塔吉克我仲未識填     基輔七十一   \n",
       "3   中意山同大自然，下個月一個人去哈薩克5日，除左Charyn Canyon同Big Almat...    沒挽手才伶仃   \n",
       "6   問個膠膠地既問題 想知六月尾去哈薩克仲有冇得滑雪 定係個到已經close 左 諗住冇得滑都想...  你望下個天係咩色   \n",
       "10                                             我香港飛台灣      咪咪磨磨   \n",
       "10                                             我香港飛台灣      咪咪磨磨   \n",
       "\n",
       "                        date                         ner  \\\n",
       "2  2019-05-09 16:30:57+00:00              [[塔吉克, S-GPE]]   \n",
       "3  2019-05-09 17:33:52+00:00              [[哈萨克, S-GPE]]   \n",
       "6  2019-05-30 04:02:53+00:00              [[哈萨克, S-GPE]]   \n",
       "10 2019-04-19 08:09:56+00:00  [[香港, S-GPE], [台湾, S-GPE]]   \n",
       "10 2019-04-19 08:09:56+00:00  [[香港, S-GPE], [台湾, S-GPE]]   \n",
       "\n",
       "                                    uuid pred  confidence ner_processed  \\\n",
       "2   d825f1f8-ced2-11ec-a6e0-42010a8a000b    1    0.584126           塔吉克   \n",
       "3   d8320b50-ced2-11ec-a6e0-42010a8a000b    1    0.906053           哈萨克   \n",
       "6   d858e324-ced2-11ec-a6e0-42010a8a000b    1    0.665911           哈萨克   \n",
       "10  d890d11c-ced2-11ec-a6e0-42010a8a000b    1    0.484573            香港   \n",
       "10  d890d11c-ced2-11ec-a6e0-42010a8a000b    1    0.484573            台湾   \n",
       "\n",
       "                    datetime  year  month  \n",
       "2  2019-05-09 16:30:57+00:00  2019      5  \n",
       "3  2019-05-09 17:33:52+00:00  2019      5  \n",
       "6  2019-05-30 04:02:53+00:00  2019      5  \n",
       "10 2019-04-19 08:09:56+00:00  2019      4  \n",
       "10 2019-04-19 08:09:56+00:00  2019      4  "
      ]
     },
     "execution_count": 179,
     "metadata": {},
     "output_type": "execute_result"
    }
   ],
   "source": [
    "post_travel_go.head(5)"
   ]
  },
  {
   "cell_type": "code",
   "execution_count": 180,
   "id": "c77069e0-58a4-4d63-b2dd-bbee60be96be",
   "metadata": {
    "tags": []
   },
   "outputs": [
    {
     "data": {
      "text/html": [
       "<div>\n",
       "<style scoped>\n",
       "    .dataframe tbody tr th:only-of-type {\n",
       "        vertical-align: middle;\n",
       "    }\n",
       "\n",
       "    .dataframe tbody tr th {\n",
       "        vertical-align: top;\n",
       "    }\n",
       "\n",
       "    .dataframe thead th {\n",
       "        text-align: right;\n",
       "    }\n",
       "</style>\n",
       "<table border=\"1\" class=\"dataframe\">\n",
       "  <thead>\n",
       "    <tr style=\"text-align: right;\">\n",
       "      <th></th>\n",
       "      <th>post_id</th>\n",
       "      <th>resource</th>\n",
       "      <th>title</th>\n",
       "      <th>msg</th>\n",
       "      <th>author</th>\n",
       "      <th>date</th>\n",
       "      <th>ner</th>\n",
       "      <th>uuid</th>\n",
       "      <th>pred</th>\n",
       "      <th>confidence</th>\n",
       "      <th>ner_processed</th>\n",
       "      <th>datetime</th>\n",
       "      <th>year</th>\n",
       "      <th>month</th>\n",
       "    </tr>\n",
       "  </thead>\n",
       "  <tbody>\n",
       "    <tr>\n",
       "      <th>2999</th>\n",
       "      <td>babykingdom_normalthread_20450803</td>\n",
       "      <td>babykingdom</td>\n",
       "      <td>有冇JM 用過首爾TK traxxx</td>\n",
       "      <td>咁我又覺唔會，聽朋友講book日本韓國酒店係要早搞，唔同泰國，比我都係會咁上下時間比錢搞，假...</td>\n",
       "      <td>無話可說</td>\n",
       "      <td>2017-10-10 16:06:00+00:00</td>\n",
       "      <td>[[日本, S-GPE], [韩国, S-GPE], [泰国, S-GPE]]</td>\n",
       "      <td>5b934ef0-ced3-11ec-a6e0-42010a8a000b</td>\n",
       "      <td>2</td>\n",
       "      <td>0.496360</td>\n",
       "      <td>日本</td>\n",
       "      <td>2017-10-10 16:06:00+00:00</td>\n",
       "      <td>2017</td>\n",
       "      <td>10</td>\n",
       "    </tr>\n",
       "    <tr>\n",
       "      <th>2999</th>\n",
       "      <td>babykingdom_normalthread_20450803</td>\n",
       "      <td>babykingdom</td>\n",
       "      <td>有冇JM 用過首爾TK traxxx</td>\n",
       "      <td>咁我又覺唔會，聽朋友講book日本韓國酒店係要早搞，唔同泰國，比我都係會咁上下時間比錢搞，假...</td>\n",
       "      <td>無話可說</td>\n",
       "      <td>2017-10-10 16:06:00+00:00</td>\n",
       "      <td>[[日本, S-GPE], [韩国, S-GPE], [泰国, S-GPE]]</td>\n",
       "      <td>5b934ef0-ced3-11ec-a6e0-42010a8a000b</td>\n",
       "      <td>2</td>\n",
       "      <td>0.496360</td>\n",
       "      <td>韩国</td>\n",
       "      <td>2017-10-10 16:06:00+00:00</td>\n",
       "      <td>2017</td>\n",
       "      <td>10</td>\n",
       "    </tr>\n",
       "    <tr>\n",
       "      <th>2999</th>\n",
       "      <td>babykingdom_normalthread_20450803</td>\n",
       "      <td>babykingdom</td>\n",
       "      <td>有冇JM 用過首爾TK traxxx</td>\n",
       "      <td>咁我又覺唔會，聽朋友講book日本韓國酒店係要早搞，唔同泰國，比我都係會咁上下時間比錢搞，假...</td>\n",
       "      <td>無話可說</td>\n",
       "      <td>2017-10-10 16:06:00+00:00</td>\n",
       "      <td>[[日本, S-GPE], [韩国, S-GPE], [泰国, S-GPE]]</td>\n",
       "      <td>5b934ef0-ced3-11ec-a6e0-42010a8a000b</td>\n",
       "      <td>2</td>\n",
       "      <td>0.496360</td>\n",
       "      <td>泰国</td>\n",
       "      <td>2017-10-10 16:06:00+00:00</td>\n",
       "      <td>2017</td>\n",
       "      <td>10</td>\n",
       "    </tr>\n",
       "    <tr>\n",
       "      <th>3039</th>\n",
       "      <td>babykingdom_normalthread_21401706</td>\n",
       "      <td>babykingdom</td>\n",
       "      <td>仲去吾去冲繩好</td>\n",
       "      <td>我五月頭去福岡 但同行有個一歲以下B，所以最後取消，酒店未比$，但機票個package 只退...</td>\n",
       "      <td>nick.hksar</td>\n",
       "      <td>2018-04-25 00:08:00+00:00</td>\n",
       "      <td>[[福冈, S-GPE], [日本, S-GPE]]</td>\n",
       "      <td>5d46b7b4-ced3-11ec-a6e0-42010a8a000b</td>\n",
       "      <td>2</td>\n",
       "      <td>0.416914</td>\n",
       "      <td>福冈</td>\n",
       "      <td>2018-04-25 00:08:00+00:00</td>\n",
       "      <td>2018</td>\n",
       "      <td>4</td>\n",
       "    </tr>\n",
       "    <tr>\n",
       "      <th>3039</th>\n",
       "      <td>babykingdom_normalthread_21401706</td>\n",
       "      <td>babykingdom</td>\n",
       "      <td>仲去吾去冲繩好</td>\n",
       "      <td>我五月頭去福岡 但同行有個一歲以下B，所以最後取消，酒店未比$，但機票個package 只退...</td>\n",
       "      <td>nick.hksar</td>\n",
       "      <td>2018-04-25 00:08:00+00:00</td>\n",
       "      <td>[[福冈, S-GPE], [日本, S-GPE]]</td>\n",
       "      <td>5d46b7b4-ced3-11ec-a6e0-42010a8a000b</td>\n",
       "      <td>2</td>\n",
       "      <td>0.416914</td>\n",
       "      <td>日本</td>\n",
       "      <td>2018-04-25 00:08:00+00:00</td>\n",
       "      <td>2018</td>\n",
       "      <td>4</td>\n",
       "    </tr>\n",
       "  </tbody>\n",
       "</table>\n",
       "</div>"
      ],
      "text/plain": [
       "                                post_id     resource               title  \\\n",
       "2999  babykingdom_normalthread_20450803  babykingdom  有冇JM 用過首爾TK traxxx   \n",
       "2999  babykingdom_normalthread_20450803  babykingdom  有冇JM 用過首爾TK traxxx   \n",
       "2999  babykingdom_normalthread_20450803  babykingdom  有冇JM 用過首爾TK traxxx   \n",
       "3039  babykingdom_normalthread_21401706  babykingdom             仲去吾去冲繩好   \n",
       "3039  babykingdom_normalthread_21401706  babykingdom             仲去吾去冲繩好   \n",
       "\n",
       "                                                    msg      author  \\\n",
       "2999  咁我又覺唔會，聽朋友講book日本韓國酒店係要早搞，唔同泰國，比我都係會咁上下時間比錢搞，假...        無話可說   \n",
       "2999  咁我又覺唔會，聽朋友講book日本韓國酒店係要早搞，唔同泰國，比我都係會咁上下時間比錢搞，假...        無話可說   \n",
       "2999  咁我又覺唔會，聽朋友講book日本韓國酒店係要早搞，唔同泰國，比我都係會咁上下時間比錢搞，假...        無話可說   \n",
       "3039  我五月頭去福岡 但同行有個一歲以下B，所以最後取消，酒店未比$，但機票個package 只退...  nick.hksar   \n",
       "3039  我五月頭去福岡 但同行有個一歲以下B，所以最後取消，酒店未比$，但機票個package 只退...  nick.hksar   \n",
       "\n",
       "                          date                                      ner  \\\n",
       "2999 2017-10-10 16:06:00+00:00  [[日本, S-GPE], [韩国, S-GPE], [泰国, S-GPE]]   \n",
       "2999 2017-10-10 16:06:00+00:00  [[日本, S-GPE], [韩国, S-GPE], [泰国, S-GPE]]   \n",
       "2999 2017-10-10 16:06:00+00:00  [[日本, S-GPE], [韩国, S-GPE], [泰国, S-GPE]]   \n",
       "3039 2018-04-25 00:08:00+00:00               [[福冈, S-GPE], [日本, S-GPE]]   \n",
       "3039 2018-04-25 00:08:00+00:00               [[福冈, S-GPE], [日本, S-GPE]]   \n",
       "\n",
       "                                      uuid pred  confidence ner_processed  \\\n",
       "2999  5b934ef0-ced3-11ec-a6e0-42010a8a000b    2    0.496360            日本   \n",
       "2999  5b934ef0-ced3-11ec-a6e0-42010a8a000b    2    0.496360            韩国   \n",
       "2999  5b934ef0-ced3-11ec-a6e0-42010a8a000b    2    0.496360            泰国   \n",
       "3039  5d46b7b4-ced3-11ec-a6e0-42010a8a000b    2    0.416914            福冈   \n",
       "3039  5d46b7b4-ced3-11ec-a6e0-42010a8a000b    2    0.416914            日本   \n",
       "\n",
       "                      datetime  year  month  \n",
       "2999 2017-10-10 16:06:00+00:00  2017     10  \n",
       "2999 2017-10-10 16:06:00+00:00  2017     10  \n",
       "2999 2017-10-10 16:06:00+00:00  2017     10  \n",
       "3039 2018-04-25 00:08:00+00:00  2018      4  \n",
       "3039 2018-04-25 00:08:00+00:00  2018      4  "
      ]
     },
     "execution_count": 180,
     "metadata": {},
     "output_type": "execute_result"
    }
   ],
   "source": [
    "post_travel_not_go.head(5)"
   ]
  },
  {
   "cell_type": "markdown",
   "id": "f659ffa5-f3f2-4b5b-8a5d-68d9728be15d",
   "metadata": {},
   "source": [
    "#### Filter relative dates for both to go and not to go dataframes"
   ]
  },
  {
   "cell_type": "code",
   "execution_count": null,
   "id": "a51629b5-a4f5-4427-8de6-865b67c86475",
   "metadata": {},
   "outputs": [],
   "source": [
    "start_date = '2019-03-01'\n",
    "end_date = '2022-03-31'\n",
    "post_travel_go_filtered = post_travel_go[(post_travel_go['datetime'] >= start_date) & (post_travel_go['datetime'] <= end_date)]\n",
    "post_travel_not_go_filterd = post_travel_not_go[(post_travel_not_go['datetime'] >= start_date) & (post_travel_not_go['datetime'] <= end_date)]\n"
   ]
  },
  {
   "cell_type": "markdown",
   "id": "14646d65-2a8e-4661-a55b-9f42377e2992",
   "metadata": {},
   "source": [
    "#### Aggregate to go result with top 20 total count"
   ]
  },
  {
   "cell_type": "code",
   "execution_count": 176,
   "id": "9757eef5-75f1-4964-a6d6-b9bb8e50f19c",
   "metadata": {},
   "outputs": [
    {
     "data": {
      "text/html": [
       "<div>\n",
       "<style scoped>\n",
       "    .dataframe tbody tr th:only-of-type {\n",
       "        vertical-align: middle;\n",
       "    }\n",
       "\n",
       "    .dataframe tbody tr th {\n",
       "        vertical-align: top;\n",
       "    }\n",
       "\n",
       "    .dataframe thead th {\n",
       "        text-align: right;\n",
       "    }\n",
       "</style>\n",
       "<table border=\"1\" class=\"dataframe\">\n",
       "  <thead>\n",
       "    <tr style=\"text-align: right;\">\n",
       "      <th></th>\n",
       "      <th>ner_processed</th>\n",
       "      <th>count</th>\n",
       "    </tr>\n",
       "  </thead>\n",
       "  <tbody>\n",
       "    <tr>\n",
       "      <th>1420</th>\n",
       "      <td>日本</td>\n",
       "      <td>4259</td>\n",
       "    </tr>\n",
       "    <tr>\n",
       "      <th>2485</th>\n",
       "      <td>香港</td>\n",
       "      <td>3683</td>\n",
       "    </tr>\n",
       "    <tr>\n",
       "      <th>248</th>\n",
       "      <td>东京</td>\n",
       "      <td>2131</td>\n",
       "    </tr>\n",
       "    <tr>\n",
       "      <th>936</th>\n",
       "      <td>大阪</td>\n",
       "      <td>1895</td>\n",
       "    </tr>\n",
       "    <tr>\n",
       "      <th>699</th>\n",
       "      <td>台湾</td>\n",
       "      <td>1275</td>\n",
       "    </tr>\n",
       "    <tr>\n",
       "      <th>2131</th>\n",
       "      <td>英国</td>\n",
       "      <td>1211</td>\n",
       "    </tr>\n",
       "    <tr>\n",
       "      <th>692</th>\n",
       "      <td>台北</td>\n",
       "      <td>1044</td>\n",
       "    </tr>\n",
       "    <tr>\n",
       "      <th>1691</th>\n",
       "      <td>泰国</td>\n",
       "      <td>892</td>\n",
       "    </tr>\n",
       "    <tr>\n",
       "      <th>2467</th>\n",
       "      <td>韩国</td>\n",
       "      <td>703</td>\n",
       "    </tr>\n",
       "    <tr>\n",
       "      <th>1958</th>\n",
       "      <td>福冈</td>\n",
       "      <td>583</td>\n",
       "    </tr>\n",
       "    <tr>\n",
       "      <th>727</th>\n",
       "      <td>名古屋</td>\n",
       "      <td>570</td>\n",
       "    </tr>\n",
       "    <tr>\n",
       "      <th>1400</th>\n",
       "      <td>日</td>\n",
       "      <td>520</td>\n",
       "    </tr>\n",
       "    <tr>\n",
       "      <th>1860</th>\n",
       "      <td>瑞士</td>\n",
       "      <td>474</td>\n",
       "    </tr>\n",
       "    <tr>\n",
       "      <th>325</th>\n",
       "      <td>九州</td>\n",
       "      <td>461</td>\n",
       "    </tr>\n",
       "    <tr>\n",
       "      <th>1803</th>\n",
       "      <td>澳洲</td>\n",
       "      <td>433</td>\n",
       "    </tr>\n",
       "    <tr>\n",
       "      <th>1503</th>\n",
       "      <td>札幌</td>\n",
       "      <td>418</td>\n",
       "    </tr>\n",
       "    <tr>\n",
       "      <th>688</th>\n",
       "      <td>台中</td>\n",
       "      <td>399</td>\n",
       "    </tr>\n",
       "    <tr>\n",
       "      <th>350</th>\n",
       "      <td>京都</td>\n",
       "      <td>398</td>\n",
       "    </tr>\n",
       "    <tr>\n",
       "      <th>938</th>\n",
       "      <td>大陆</td>\n",
       "      <td>368</td>\n",
       "    </tr>\n",
       "    <tr>\n",
       "      <th>463</th>\n",
       "      <td>冲绳</td>\n",
       "      <td>368</td>\n",
       "    </tr>\n",
       "  </tbody>\n",
       "</table>\n",
       "</div>"
      ],
      "text/plain": [
       "     ner_processed  count\n",
       "1420            日本   4259\n",
       "2485            香港   3683\n",
       "248             东京   2131\n",
       "936             大阪   1895\n",
       "699             台湾   1275\n",
       "2131            英国   1211\n",
       "692             台北   1044\n",
       "1691            泰国    892\n",
       "2467            韩国    703\n",
       "1958            福冈    583\n",
       "727            名古屋    570\n",
       "1400             日    520\n",
       "1860            瑞士    474\n",
       "325             九州    461\n",
       "1803            澳洲    433\n",
       "1503            札幌    418\n",
       "688             台中    399\n",
       "350             京都    398\n",
       "938             大陆    368\n",
       "463             冲绳    368"
      ]
     },
     "execution_count": 176,
     "metadata": {},
     "output_type": "execute_result"
    }
   ],
   "source": [
    "post_travel_go_filtered.groupby(['ner_processed']).size() \\\n",
    ".reset_index(name='count').sort_values(['count'], ascending=False).head(20)"
   ]
  },
  {
   "cell_type": "markdown",
   "id": "cab2a16e-5691-4ce9-8137-8b7470c1762c",
   "metadata": {},
   "source": [
    "#### Aggregate not to go result with top 20 total count"
   ]
  },
  {
   "cell_type": "code",
   "execution_count": 96,
   "id": "0aa5e46f-65c4-44bb-aeda-7f23b0453dc4",
   "metadata": {},
   "outputs": [
    {
     "data": {
      "text/html": [
       "<div>\n",
       "<style scoped>\n",
       "    .dataframe tbody tr th:only-of-type {\n",
       "        vertical-align: middle;\n",
       "    }\n",
       "\n",
       "    .dataframe tbody tr th {\n",
       "        vertical-align: top;\n",
       "    }\n",
       "\n",
       "    .dataframe thead th {\n",
       "        text-align: right;\n",
       "    }\n",
       "</style>\n",
       "<table border=\"1\" class=\"dataframe\">\n",
       "  <thead>\n",
       "    <tr style=\"text-align: right;\">\n",
       "      <th></th>\n",
       "      <th>ner_processed</th>\n",
       "      <th>count</th>\n",
       "    </tr>\n",
       "  </thead>\n",
       "  <tbody>\n",
       "    <tr>\n",
       "      <th>0</th>\n",
       "      <td>日本</td>\n",
       "      <td>107</td>\n",
       "    </tr>\n",
       "    <tr>\n",
       "      <th>1</th>\n",
       "      <td>大阪</td>\n",
       "      <td>69</td>\n",
       "    </tr>\n",
       "    <tr>\n",
       "      <th>2</th>\n",
       "      <td>香港</td>\n",
       "      <td>61</td>\n",
       "    </tr>\n",
       "    <tr>\n",
       "      <th>3</th>\n",
       "      <td>东京</td>\n",
       "      <td>52</td>\n",
       "    </tr>\n",
       "    <tr>\n",
       "      <th>4</th>\n",
       "      <td>台湾</td>\n",
       "      <td>41</td>\n",
       "    </tr>\n",
       "    <tr>\n",
       "      <th>5</th>\n",
       "      <td>台北</td>\n",
       "      <td>35</td>\n",
       "    </tr>\n",
       "    <tr>\n",
       "      <th>6</th>\n",
       "      <td>泰国</td>\n",
       "      <td>32</td>\n",
       "    </tr>\n",
       "    <tr>\n",
       "      <th>7</th>\n",
       "      <td>韩国</td>\n",
       "      <td>29</td>\n",
       "    </tr>\n",
       "    <tr>\n",
       "      <th>8</th>\n",
       "      <td>冲绳</td>\n",
       "      <td>20</td>\n",
       "    </tr>\n",
       "    <tr>\n",
       "      <th>9</th>\n",
       "      <td>日</td>\n",
       "      <td>16</td>\n",
       "    </tr>\n",
       "    <tr>\n",
       "      <th>10</th>\n",
       "      <td>大陆</td>\n",
       "      <td>14</td>\n",
       "    </tr>\n",
       "    <tr>\n",
       "      <th>11</th>\n",
       "      <td>英国</td>\n",
       "      <td>14</td>\n",
       "    </tr>\n",
       "    <tr>\n",
       "      <th>12</th>\n",
       "      <td>高雄</td>\n",
       "      <td>11</td>\n",
       "    </tr>\n",
       "    <tr>\n",
       "      <th>13</th>\n",
       "      <td>名古屋</td>\n",
       "      <td>11</td>\n",
       "    </tr>\n",
       "    <tr>\n",
       "      <th>14</th>\n",
       "      <td>曼谷</td>\n",
       "      <td>10</td>\n",
       "    </tr>\n",
       "    <tr>\n",
       "      <th>15</th>\n",
       "      <td>札幌</td>\n",
       "      <td>10</td>\n",
       "    </tr>\n",
       "    <tr>\n",
       "      <th>16</th>\n",
       "      <td>澳门</td>\n",
       "      <td>10</td>\n",
       "    </tr>\n",
       "    <tr>\n",
       "      <th>17</th>\n",
       "      <td>澳洲</td>\n",
       "      <td>9</td>\n",
       "    </tr>\n",
       "    <tr>\n",
       "      <th>18</th>\n",
       "      <td>福冈</td>\n",
       "      <td>9</td>\n",
       "    </tr>\n",
       "    <tr>\n",
       "      <th>19</th>\n",
       "      <td>首尔</td>\n",
       "      <td>9</td>\n",
       "    </tr>\n",
       "  </tbody>\n",
       "</table>\n",
       "</div>"
      ],
      "text/plain": [
       "   ner_processed  count\n",
       "0             日本    107\n",
       "1             大阪     69\n",
       "2             香港     61\n",
       "3             东京     52\n",
       "4             台湾     41\n",
       "5             台北     35\n",
       "6             泰国     32\n",
       "7             韩国     29\n",
       "8             冲绳     20\n",
       "9              日     16\n",
       "10            大陆     14\n",
       "11            英国     14\n",
       "12            高雄     11\n",
       "13           名古屋     11\n",
       "14            曼谷     10\n",
       "15            札幌     10\n",
       "16            澳门     10\n",
       "17            澳洲      9\n",
       "18            福冈      9\n",
       "19            首尔      9"
      ]
     },
     "execution_count": 96,
     "metadata": {},
     "output_type": "execute_result"
    }
   ],
   "source": [
    "post_travel_not_go.groupby('ner_processed').size() \\\n",
    ".sort_values(ascending=False).reset_index(name='count').head(20)"
   ]
  }
 ],
 "metadata": {
  "environment": {
   "kernel": "python3",
   "name": "common-cpu.m91",
   "type": "gcloud",
   "uri": "gcr.io/deeplearning-platform-release/base-cpu:m91"
  },
  "kernelspec": {
   "display_name": "Python 3",
   "language": "python",
   "name": "python3"
  },
  "language_info": {
   "codemirror_mode": {
    "name": "ipython",
    "version": 3
   },
   "file_extension": ".py",
   "mimetype": "text/x-python",
   "name": "python",
   "nbconvert_exporter": "python",
   "pygments_lexer": "ipython3",
   "version": "3.7.12"
  }
 },
 "nbformat": 4,
 "nbformat_minor": 5
}
